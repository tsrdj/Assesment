{
 "cells": [
  {
   "cell_type": "markdown",
   "id": "ee87eb88",
   "metadata": {},
   "source": [
    "# Python"
   ]
  },
  {
   "cell_type": "markdown",
   "id": "6ceee1d7",
   "metadata": {},
   "source": [
    "# Answer 1:"
   ]
  },
  {
   "cell_type": "code",
   "execution_count": 62,
   "id": "6953d1af",
   "metadata": {},
   "outputs": [
    {
     "name": "stdout",
     "output_type": "stream",
     "text": [
      "{'abc': [], 'def': ['abc'], 'ghi': ['abc', 'def'], 'jkl': ['abc', 'def', 'ghi'], 'mno': ['abc', 'def', 'ghi', 'jkl'], 'pqr': ['abc', 'def', 'ghi', 'jkl', 'mno'], 'stu': ['abc', 'def', 'ghi', 'jkl', 'mno', 'pqr'], 'vwx': ['abc', 'def', 'ghi', 'jkl', 'mno', 'pqr', 'stu'], 'yz': ['abc', 'def', 'ghi', 'jkl', 'mno', 'pqr', 'stu', 'vwx']}\n"
     ]
    }
   ],
   "source": [
    "def generate_output(input_dict):\n",
    "    output = {}\n",
    "\n",
    "    def recursive_generate(keys, current_dict):\n",
    "        if isinstance(current_dict, dict):\n",
    "            for key, value in current_dict.items():\n",
    "                new_keys = keys + [key]\n",
    "                output_key = new_keys[-1]\n",
    "                output_value = new_keys[:-1]\n",
    "                if output_key not in output:\n",
    "                    output[output_key] = []\n",
    "                output[output_key].extend(output_value)\n",
    "                recursive_generate(new_keys, value)\n",
    "\n",
    "    recursive_generate([], input_dict)\n",
    "    return output\n",
    "\n",
    "# Example usage:\n",
    "input_dict = {\"abc\": {\"def\": {\"ghi\": {\"jkl\": {\"mno\": {\"pqr\": {\"stu\": {\"vwx\": {\"yz\": \"you are finally here\"}}}}}}}}}\n",
    "output = generate_output(input_dict)\n",
    "print(output)"
   ]
  },
  {
   "cell_type": "markdown",
   "id": "dee4bfc2",
   "metadata": {},
   "source": [
    "# Answer 2 :"
   ]
  },
  {
   "cell_type": "code",
   "execution_count": 8,
   "id": "f0868f90",
   "metadata": {},
   "outputs": [
    {
     "name": "stdout",
     "output_type": "stream",
     "text": [
      "3\n"
     ]
    }
   ],
   "source": [
    "def min_distance_between_horses(stalls, k):\n",
    "    stalls.sort()\n",
    "\n",
    "    def is_valid(mid):\n",
    "        count_horses = 1\n",
    "        prev_stall = stalls[0]\n",
    "\n",
    "        for stall in stalls:\n",
    "            if stall - prev_stall >= mid:\n",
    "                count_horses += 1\n",
    "                prev_stall = stall\n",
    "\n",
    "        return count_horses >= k\n",
    "\n",
    "    low, high = 0, stalls[-1] - stalls[0]\n",
    "    result = 0\n",
    "\n",
    "    while low <= high:\n",
    "        mid = (low + high) // 2\n",
    "\n",
    "        if is_valid(mid):\n",
    "            result = mid\n",
    "            low = mid + 1\n",
    "        else:\n",
    "            high = mid - 1\n",
    "\n",
    "    return result\n",
    "\n",
    "# Example usage:\n",
    "stalls = [1, 2, 4, 8, 9]\n",
    "k = 3\n",
    "output = min_distance_between_horses(stalls, k)\n",
    "print(output)"
   ]
  },
  {
   "cell_type": "markdown",
   "id": "ff8f6713",
   "metadata": {},
   "source": [
    "# Answer 3 :"
   ]
  },
  {
   "cell_type": "code",
   "execution_count": 9,
   "id": "eb39bf37",
   "metadata": {},
   "outputs": [
    {
     "name": "stdout",
     "output_type": "stream",
     "text": [
      "Enter the odd natural number N: 3\n",
      "---.|.---\n",
      "-WELCOME-\n",
      "---.|.---\n"
     ]
    }
   ],
   "source": [
    "def generate_door_mat(N, M):\n",
    "    for i in range(1, N, 2):\n",
    "        pattern = \".|.\" * i\n",
    "        print(pattern.center(M, '-'))\n",
    "\n",
    "    print(\"WELCOME\".center(M, '-'))\n",
    "\n",
    "    for i in range(N-2, 0, -2):\n",
    "        pattern = \".|.\" * i\n",
    "        print(pattern.center(M, '-'))\n",
    "\n",
    "# Example usage:\n",
    "N = int(input(\"Enter the odd natural number N: \"))\n",
    "M = 3 * N\n",
    "generate_door_mat(N, M)"
   ]
  },
  {
   "cell_type": "markdown",
   "id": "8d4e738a",
   "metadata": {},
   "source": [
    "# Answer 4 :"
   ]
  },
  {
   "cell_type": "code",
   "execution_count": 10,
   "id": "972a55a9",
   "metadata": {},
   "outputs": [
    {
     "name": "stdout",
     "output_type": "stream",
     "text": [
      "[[-2, -1, 1, 2], [-2, 0, 0, 2], [-1, 0, 0, 1]]\n"
     ]
    }
   ],
   "source": [
    "def four_sum(nums, target):\n",
    "    result = []\n",
    "\n",
    "    nums.sort()\n",
    "\n",
    "    for a in range(len(nums) - 3):\n",
    "        if a > 0 and nums[a] == nums[a - 1]:\n",
    "            continue\n",
    "\n",
    "        for b in range(a + 1, len(nums) - 2):\n",
    "            if b > a + 1 and nums[b] == nums[b - 1]:\n",
    "                continue\n",
    "\n",
    "            left, right = b + 1, len(nums) - 1\n",
    "\n",
    "            while left < right:\n",
    "                current_sum = nums[a] + nums[b] + nums[left] + nums[right]\n",
    "\n",
    "                if current_sum == target:\n",
    "                    result.append([nums[a], nums[b], nums[left], nums[right]])\n",
    "\n",
    "                    while left < right and nums[left] == nums[left + 1]:\n",
    "                        left += 1\n",
    "                    while left < right and nums[right] == nums[right - 1]:\n",
    "                        right -= 1\n",
    "\n",
    "                    left += 1\n",
    "                    right -= 1\n",
    "                elif current_sum < target:\n",
    "                    left += 1\n",
    "                else:\n",
    "                    right -= 1\n",
    "\n",
    "    return result\n",
    "\n",
    "# Example usage:\n",
    "nums = [1, 0, -1, 0, -2, 2]\n",
    "target = 0\n",
    "output = four_sum(nums, target)\n",
    "print(output)"
   ]
  }
 ],
 "metadata": {
  "kernelspec": {
   "display_name": "Python 3 (ipykernel)",
   "language": "python",
   "name": "python3"
  },
  "language_info": {
   "codemirror_mode": {
    "name": "ipython",
    "version": 3
   },
   "file_extension": ".py",
   "mimetype": "text/x-python",
   "name": "python",
   "nbconvert_exporter": "python",
   "pygments_lexer": "ipython3",
   "version": "3.11.5"
  }
 },
 "nbformat": 4,
 "nbformat_minor": 5
}
